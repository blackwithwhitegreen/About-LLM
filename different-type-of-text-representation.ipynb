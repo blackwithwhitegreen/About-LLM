{
 "cells": [
  {
   "cell_type": "code",
   "execution_count": 1,
   "id": "d89ee8c9",
   "metadata": {
    "_cell_guid": "b1076dfc-b9ad-4769-8c92-a6c4dae69d19",
    "_uuid": "8f2839f25d086af736a60e9eeb907d3b93b6e0e5",
    "execution": {
     "iopub.execute_input": "2025-04-22T14:23:26.457760Z",
     "iopub.status.busy": "2025-04-22T14:23:26.456889Z",
     "iopub.status.idle": "2025-04-22T14:23:28.512364Z",
     "shell.execute_reply": "2025-04-22T14:23:28.510766Z"
    },
    "papermill": {
     "duration": 2.064524,
     "end_time": "2025-04-22T14:23:28.514253",
     "exception": false,
     "start_time": "2025-04-22T14:23:26.449729",
     "status": "completed"
    },
    "tags": []
   },
   "outputs": [
    {
     "name": "stdout",
     "output_type": "stream",
     "text": [
      "/kaggle/input/twitter-entity-sentiment-analysis/twitter_validation.csv\n",
      "/kaggle/input/twitter-entity-sentiment-analysis/twitter_training.csv\n"
     ]
    }
   ],
   "source": [
    "# This Python 3 environment comes with many helpful analytics libraries installed\n",
    "# It is defined by the kaggle/python Docker image: https://github.com/kaggle/docker-python\n",
    "# For example, here's several helpful packages to load\n",
    "\n",
    "import numpy as np # linear algebra\n",
    "import pandas as pd # data processing, CSV file I/O (e.g. pd.read_csv)\n",
    "import warnings\n",
    "warnings.filterwarnings('ignore')\n",
    "\n",
    "# Input data files are available in the read-only \"../input/\" directory\n",
    "# For example, running this (by clicking run or pressing Shift+Enter) will list all files under the input directory\n",
    "\n",
    "import os\n",
    "for dirname, _, filenames in os.walk('/kaggle/input'):\n",
    "    for filename in filenames:\n",
    "        print(os.path.join(dirname, filename))\n",
    "\n",
    "# You can write up to 20GB to the current directory (/kaggle/working/) that gets preserved as output when you create a version using \"Save & Run All\" \n",
    "# You can also write temporary files to /kaggle/temp/, but they won't be saved outside of the current session"
   ]
  },
  {
   "cell_type": "markdown",
   "id": "bc6f5618",
   "metadata": {
    "papermill": {
     "duration": 0.004639,
     "end_time": "2025-04-22T14:23:28.526827",
     "exception": false,
     "start_time": "2025-04-22T14:23:28.522188",
     "status": "completed"
    },
    "tags": []
   },
   "source": [
    "# Data loading and preprocessing"
   ]
  },
  {
   "cell_type": "code",
   "execution_count": 2,
   "id": "b298902c",
   "metadata": {
    "execution": {
     "iopub.execute_input": "2025-04-22T14:23:28.538652Z",
     "iopub.status.busy": "2025-04-22T14:23:28.537622Z",
     "iopub.status.idle": "2025-04-22T14:23:29.035145Z",
     "shell.execute_reply": "2025-04-22T14:23:29.033958Z"
    },
    "papermill": {
     "duration": 0.505549,
     "end_time": "2025-04-22T14:23:29.037118",
     "exception": false,
     "start_time": "2025-04-22T14:23:28.531569",
     "status": "completed"
    },
    "tags": []
   },
   "outputs": [],
   "source": [
    "df_train= pd.read_csv(\"/kaggle/input/twitter-entity-sentiment-analysis/twitter_training.csv\")"
   ]
  },
  {
   "cell_type": "code",
   "execution_count": 3,
   "id": "da474905",
   "metadata": {
    "execution": {
     "iopub.execute_input": "2025-04-22T14:23:29.049301Z",
     "iopub.status.busy": "2025-04-22T14:23:29.048918Z",
     "iopub.status.idle": "2025-04-22T14:23:29.083517Z",
     "shell.execute_reply": "2025-04-22T14:23:29.082265Z"
    },
    "papermill": {
     "duration": 0.042795,
     "end_time": "2025-04-22T14:23:29.085359",
     "exception": false,
     "start_time": "2025-04-22T14:23:29.042564",
     "status": "completed"
    },
    "tags": []
   },
   "outputs": [
    {
     "data": {
      "text/html": [
       "<div>\n",
       "<style scoped>\n",
       "    .dataframe tbody tr th:only-of-type {\n",
       "        vertical-align: middle;\n",
       "    }\n",
       "\n",
       "    .dataframe tbody tr th {\n",
       "        vertical-align: top;\n",
       "    }\n",
       "\n",
       "    .dataframe thead th {\n",
       "        text-align: right;\n",
       "    }\n",
       "</style>\n",
       "<table border=\"1\" class=\"dataframe\">\n",
       "  <thead>\n",
       "    <tr style=\"text-align: right;\">\n",
       "      <th></th>\n",
       "      <th>2401</th>\n",
       "      <th>Borderlands</th>\n",
       "      <th>Positive</th>\n",
       "      <th>im getting on borderlands and i will murder you all ,</th>\n",
       "    </tr>\n",
       "  </thead>\n",
       "  <tbody>\n",
       "    <tr>\n",
       "      <th>0</th>\n",
       "      <td>2401</td>\n",
       "      <td>Borderlands</td>\n",
       "      <td>Positive</td>\n",
       "      <td>I am coming to the borders and I will kill you...</td>\n",
       "    </tr>\n",
       "    <tr>\n",
       "      <th>1</th>\n",
       "      <td>2401</td>\n",
       "      <td>Borderlands</td>\n",
       "      <td>Positive</td>\n",
       "      <td>im getting on borderlands and i will kill you ...</td>\n",
       "    </tr>\n",
       "    <tr>\n",
       "      <th>2</th>\n",
       "      <td>2401</td>\n",
       "      <td>Borderlands</td>\n",
       "      <td>Positive</td>\n",
       "      <td>im coming on borderlands and i will murder you...</td>\n",
       "    </tr>\n",
       "    <tr>\n",
       "      <th>3</th>\n",
       "      <td>2401</td>\n",
       "      <td>Borderlands</td>\n",
       "      <td>Positive</td>\n",
       "      <td>im getting on borderlands 2 and i will murder ...</td>\n",
       "    </tr>\n",
       "    <tr>\n",
       "      <th>4</th>\n",
       "      <td>2401</td>\n",
       "      <td>Borderlands</td>\n",
       "      <td>Positive</td>\n",
       "      <td>im getting into borderlands and i can murder y...</td>\n",
       "    </tr>\n",
       "    <tr>\n",
       "      <th>...</th>\n",
       "      <td>...</td>\n",
       "      <td>...</td>\n",
       "      <td>...</td>\n",
       "      <td>...</td>\n",
       "    </tr>\n",
       "    <tr>\n",
       "      <th>74676</th>\n",
       "      <td>9200</td>\n",
       "      <td>Nvidia</td>\n",
       "      <td>Positive</td>\n",
       "      <td>Just realized that the Windows partition of my...</td>\n",
       "    </tr>\n",
       "    <tr>\n",
       "      <th>74677</th>\n",
       "      <td>9200</td>\n",
       "      <td>Nvidia</td>\n",
       "      <td>Positive</td>\n",
       "      <td>Just realized that my Mac window partition is ...</td>\n",
       "    </tr>\n",
       "    <tr>\n",
       "      <th>74678</th>\n",
       "      <td>9200</td>\n",
       "      <td>Nvidia</td>\n",
       "      <td>Positive</td>\n",
       "      <td>Just realized the windows partition of my Mac ...</td>\n",
       "    </tr>\n",
       "    <tr>\n",
       "      <th>74679</th>\n",
       "      <td>9200</td>\n",
       "      <td>Nvidia</td>\n",
       "      <td>Positive</td>\n",
       "      <td>Just realized between the windows partition of...</td>\n",
       "    </tr>\n",
       "    <tr>\n",
       "      <th>74680</th>\n",
       "      <td>9200</td>\n",
       "      <td>Nvidia</td>\n",
       "      <td>Positive</td>\n",
       "      <td>Just like the windows partition of my Mac is l...</td>\n",
       "    </tr>\n",
       "  </tbody>\n",
       "</table>\n",
       "<p>74681 rows × 4 columns</p>\n",
       "</div>"
      ],
      "text/plain": [
       "       2401  Borderlands  Positive  \\\n",
       "0      2401  Borderlands  Positive   \n",
       "1      2401  Borderlands  Positive   \n",
       "2      2401  Borderlands  Positive   \n",
       "3      2401  Borderlands  Positive   \n",
       "4      2401  Borderlands  Positive   \n",
       "...     ...          ...       ...   \n",
       "74676  9200       Nvidia  Positive   \n",
       "74677  9200       Nvidia  Positive   \n",
       "74678  9200       Nvidia  Positive   \n",
       "74679  9200       Nvidia  Positive   \n",
       "74680  9200       Nvidia  Positive   \n",
       "\n",
       "      im getting on borderlands and i will murder you all ,  \n",
       "0      I am coming to the borders and I will kill you...     \n",
       "1      im getting on borderlands and i will kill you ...     \n",
       "2      im coming on borderlands and i will murder you...     \n",
       "3      im getting on borderlands 2 and i will murder ...     \n",
       "4      im getting into borderlands and i can murder y...     \n",
       "...                                                  ...     \n",
       "74676  Just realized that the Windows partition of my...     \n",
       "74677  Just realized that my Mac window partition is ...     \n",
       "74678  Just realized the windows partition of my Mac ...     \n",
       "74679  Just realized between the windows partition of...     \n",
       "74680  Just like the windows partition of my Mac is l...     \n",
       "\n",
       "[74681 rows x 4 columns]"
      ]
     },
     "execution_count": 3,
     "metadata": {},
     "output_type": "execute_result"
    }
   ],
   "source": [
    "df_train"
   ]
  },
  {
   "cell_type": "markdown",
   "id": "95bfd97b",
   "metadata": {
    "papermill": {
     "duration": 0.004916,
     "end_time": "2025-04-22T14:23:29.095715",
     "exception": false,
     "start_time": "2025-04-22T14:23:29.090799",
     "status": "completed"
    },
    "tags": []
   },
   "source": [
    "**- Changeing columns name and shifting data in Zeroth row.**"
   ]
  },
  {
   "cell_type": "code",
   "execution_count": 4,
   "id": "82490b38",
   "metadata": {
    "execution": {
     "iopub.execute_input": "2025-04-22T14:23:29.107995Z",
     "iopub.status.busy": "2025-04-22T14:23:29.107630Z",
     "iopub.status.idle": "2025-04-22T14:23:29.147122Z",
     "shell.execute_reply": "2025-04-22T14:23:29.145894Z"
    },
    "papermill": {
     "duration": 0.047908,
     "end_time": "2025-04-22T14:23:29.149170",
     "exception": false,
     "start_time": "2025-04-22T14:23:29.101262",
     "status": "completed"
    },
    "tags": []
   },
   "outputs": [],
   "source": [
    "current_col = df_train.columns.tolist()\n",
    "\n",
    "df_train.loc[-1] = current_col\n",
    "df_train.index = df_train.index+1\n",
    "df_train = df_train.sort_index()\n",
    "\n",
    "df_train.columns = ['tweet_id','entity','sentiment','text']\n",
    "\n",
    "df_train.reset_index(drop=True,inplace=True)"
   ]
  },
  {
   "cell_type": "code",
   "execution_count": 5,
   "id": "186583e9",
   "metadata": {
    "execution": {
     "iopub.execute_input": "2025-04-22T14:23:29.162422Z",
     "iopub.status.busy": "2025-04-22T14:23:29.161101Z",
     "iopub.status.idle": "2025-04-22T14:23:29.173813Z",
     "shell.execute_reply": "2025-04-22T14:23:29.172709Z"
    },
    "papermill": {
     "duration": 0.020713,
     "end_time": "2025-04-22T14:23:29.175372",
     "exception": false,
     "start_time": "2025-04-22T14:23:29.154659",
     "status": "completed"
    },
    "tags": []
   },
   "outputs": [
    {
     "data": {
      "text/html": [
       "<div>\n",
       "<style scoped>\n",
       "    .dataframe tbody tr th:only-of-type {\n",
       "        vertical-align: middle;\n",
       "    }\n",
       "\n",
       "    .dataframe tbody tr th {\n",
       "        vertical-align: top;\n",
       "    }\n",
       "\n",
       "    .dataframe thead th {\n",
       "        text-align: right;\n",
       "    }\n",
       "</style>\n",
       "<table border=\"1\" class=\"dataframe\">\n",
       "  <thead>\n",
       "    <tr style=\"text-align: right;\">\n",
       "      <th></th>\n",
       "      <th>tweet_id</th>\n",
       "      <th>entity</th>\n",
       "      <th>sentiment</th>\n",
       "      <th>text</th>\n",
       "    </tr>\n",
       "  </thead>\n",
       "  <tbody>\n",
       "    <tr>\n",
       "      <th>0</th>\n",
       "      <td>2401</td>\n",
       "      <td>Borderlands</td>\n",
       "      <td>Positive</td>\n",
       "      <td>im getting on borderlands and i will murder yo...</td>\n",
       "    </tr>\n",
       "    <tr>\n",
       "      <th>1</th>\n",
       "      <td>2401</td>\n",
       "      <td>Borderlands</td>\n",
       "      <td>Positive</td>\n",
       "      <td>I am coming to the borders and I will kill you...</td>\n",
       "    </tr>\n",
       "    <tr>\n",
       "      <th>2</th>\n",
       "      <td>2401</td>\n",
       "      <td>Borderlands</td>\n",
       "      <td>Positive</td>\n",
       "      <td>im getting on borderlands and i will kill you ...</td>\n",
       "    </tr>\n",
       "    <tr>\n",
       "      <th>3</th>\n",
       "      <td>2401</td>\n",
       "      <td>Borderlands</td>\n",
       "      <td>Positive</td>\n",
       "      <td>im coming on borderlands and i will murder you...</td>\n",
       "    </tr>\n",
       "    <tr>\n",
       "      <th>4</th>\n",
       "      <td>2401</td>\n",
       "      <td>Borderlands</td>\n",
       "      <td>Positive</td>\n",
       "      <td>im getting on borderlands 2 and i will murder ...</td>\n",
       "    </tr>\n",
       "    <tr>\n",
       "      <th>...</th>\n",
       "      <td>...</td>\n",
       "      <td>...</td>\n",
       "      <td>...</td>\n",
       "      <td>...</td>\n",
       "    </tr>\n",
       "    <tr>\n",
       "      <th>74677</th>\n",
       "      <td>9200</td>\n",
       "      <td>Nvidia</td>\n",
       "      <td>Positive</td>\n",
       "      <td>Just realized that the Windows partition of my...</td>\n",
       "    </tr>\n",
       "    <tr>\n",
       "      <th>74678</th>\n",
       "      <td>9200</td>\n",
       "      <td>Nvidia</td>\n",
       "      <td>Positive</td>\n",
       "      <td>Just realized that my Mac window partition is ...</td>\n",
       "    </tr>\n",
       "    <tr>\n",
       "      <th>74679</th>\n",
       "      <td>9200</td>\n",
       "      <td>Nvidia</td>\n",
       "      <td>Positive</td>\n",
       "      <td>Just realized the windows partition of my Mac ...</td>\n",
       "    </tr>\n",
       "    <tr>\n",
       "      <th>74680</th>\n",
       "      <td>9200</td>\n",
       "      <td>Nvidia</td>\n",
       "      <td>Positive</td>\n",
       "      <td>Just realized between the windows partition of...</td>\n",
       "    </tr>\n",
       "    <tr>\n",
       "      <th>74681</th>\n",
       "      <td>9200</td>\n",
       "      <td>Nvidia</td>\n",
       "      <td>Positive</td>\n",
       "      <td>Just like the windows partition of my Mac is l...</td>\n",
       "    </tr>\n",
       "  </tbody>\n",
       "</table>\n",
       "<p>74682 rows × 4 columns</p>\n",
       "</div>"
      ],
      "text/plain": [
       "      tweet_id       entity sentiment  \\\n",
       "0         2401  Borderlands  Positive   \n",
       "1         2401  Borderlands  Positive   \n",
       "2         2401  Borderlands  Positive   \n",
       "3         2401  Borderlands  Positive   \n",
       "4         2401  Borderlands  Positive   \n",
       "...        ...          ...       ...   \n",
       "74677     9200       Nvidia  Positive   \n",
       "74678     9200       Nvidia  Positive   \n",
       "74679     9200       Nvidia  Positive   \n",
       "74680     9200       Nvidia  Positive   \n",
       "74681     9200       Nvidia  Positive   \n",
       "\n",
       "                                                    text  \n",
       "0      im getting on borderlands and i will murder yo...  \n",
       "1      I am coming to the borders and I will kill you...  \n",
       "2      im getting on borderlands and i will kill you ...  \n",
       "3      im coming on borderlands and i will murder you...  \n",
       "4      im getting on borderlands 2 and i will murder ...  \n",
       "...                                                  ...  \n",
       "74677  Just realized that the Windows partition of my...  \n",
       "74678  Just realized that my Mac window partition is ...  \n",
       "74679  Just realized the windows partition of my Mac ...  \n",
       "74680  Just realized between the windows partition of...  \n",
       "74681  Just like the windows partition of my Mac is l...  \n",
       "\n",
       "[74682 rows x 4 columns]"
      ]
     },
     "execution_count": 5,
     "metadata": {},
     "output_type": "execute_result"
    }
   ],
   "source": [
    "df_train"
   ]
  },
  {
   "cell_type": "code",
   "execution_count": 6,
   "id": "e50e8f3c",
   "metadata": {
    "execution": {
     "iopub.execute_input": "2025-04-22T14:23:29.187974Z",
     "iopub.status.busy": "2025-04-22T14:23:29.187603Z",
     "iopub.status.idle": "2025-04-22T14:23:29.217584Z",
     "shell.execute_reply": "2025-04-22T14:23:29.216412Z"
    },
    "papermill": {
     "duration": 0.038501,
     "end_time": "2025-04-22T14:23:29.219440",
     "exception": false,
     "start_time": "2025-04-22T14:23:29.180939",
     "status": "completed"
    },
    "tags": []
   },
   "outputs": [
    {
     "data": {
      "text/html": [
       "<div>\n",
       "<style scoped>\n",
       "    .dataframe tbody tr th:only-of-type {\n",
       "        vertical-align: middle;\n",
       "    }\n",
       "\n",
       "    .dataframe tbody tr th {\n",
       "        vertical-align: top;\n",
       "    }\n",
       "\n",
       "    .dataframe thead th {\n",
       "        text-align: right;\n",
       "    }\n",
       "</style>\n",
       "<table border=\"1\" class=\"dataframe\">\n",
       "  <thead>\n",
       "    <tr style=\"text-align: right;\">\n",
       "      <th></th>\n",
       "      <th>3364</th>\n",
       "      <th>Facebook</th>\n",
       "      <th>Irrelevant</th>\n",
       "      <th>I mentioned on Facebook that I was struggling for motivation to go for a run the other day, which has been translated by Tom’s great auntie as ‘Hayley can’t get out of bed’ and told to his grandma, who now thinks I’m a lazy, terrible person 🤣</th>\n",
       "    </tr>\n",
       "  </thead>\n",
       "  <tbody>\n",
       "    <tr>\n",
       "      <th>0</th>\n",
       "      <td>352</td>\n",
       "      <td>Amazon</td>\n",
       "      <td>Neutral</td>\n",
       "      <td>BBC News - Amazon boss Jeff Bezos rejects clai...</td>\n",
       "    </tr>\n",
       "    <tr>\n",
       "      <th>1</th>\n",
       "      <td>8312</td>\n",
       "      <td>Microsoft</td>\n",
       "      <td>Negative</td>\n",
       "      <td>@Microsoft Why do I pay for WORD when it funct...</td>\n",
       "    </tr>\n",
       "    <tr>\n",
       "      <th>2</th>\n",
       "      <td>4371</td>\n",
       "      <td>CS-GO</td>\n",
       "      <td>Negative</td>\n",
       "      <td>CSGO matchmaking is so full of closet hacking,...</td>\n",
       "    </tr>\n",
       "    <tr>\n",
       "      <th>3</th>\n",
       "      <td>4433</td>\n",
       "      <td>Google</td>\n",
       "      <td>Neutral</td>\n",
       "      <td>Now the President is slapping Americans in the...</td>\n",
       "    </tr>\n",
       "    <tr>\n",
       "      <th>4</th>\n",
       "      <td>6273</td>\n",
       "      <td>FIFA</td>\n",
       "      <td>Negative</td>\n",
       "      <td>Hi @EAHelp I’ve had Madeleine McCann in my cel...</td>\n",
       "    </tr>\n",
       "    <tr>\n",
       "      <th>...</th>\n",
       "      <td>...</td>\n",
       "      <td>...</td>\n",
       "      <td>...</td>\n",
       "      <td>...</td>\n",
       "    </tr>\n",
       "    <tr>\n",
       "      <th>994</th>\n",
       "      <td>4891</td>\n",
       "      <td>GrandTheftAuto(GTA)</td>\n",
       "      <td>Irrelevant</td>\n",
       "      <td>⭐️ Toronto is the arts and culture capital of ...</td>\n",
       "    </tr>\n",
       "    <tr>\n",
       "      <th>995</th>\n",
       "      <td>4359</td>\n",
       "      <td>CS-GO</td>\n",
       "      <td>Irrelevant</td>\n",
       "      <td>tHIS IS ACTUALLY A GOOD MOVE TOT BRING MORE VI...</td>\n",
       "    </tr>\n",
       "    <tr>\n",
       "      <th>996</th>\n",
       "      <td>2652</td>\n",
       "      <td>Borderlands</td>\n",
       "      <td>Positive</td>\n",
       "      <td>Today sucked so it’s time to drink wine n play...</td>\n",
       "    </tr>\n",
       "    <tr>\n",
       "      <th>997</th>\n",
       "      <td>8069</td>\n",
       "      <td>Microsoft</td>\n",
       "      <td>Positive</td>\n",
       "      <td>Bought a fraction of Microsoft today. Small wins.</td>\n",
       "    </tr>\n",
       "    <tr>\n",
       "      <th>998</th>\n",
       "      <td>6960</td>\n",
       "      <td>johnson&amp;johnson</td>\n",
       "      <td>Neutral</td>\n",
       "      <td>Johnson &amp; Johnson to stop selling talc baby po...</td>\n",
       "    </tr>\n",
       "  </tbody>\n",
       "</table>\n",
       "<p>999 rows × 4 columns</p>\n",
       "</div>"
      ],
      "text/plain": [
       "     3364             Facebook  Irrelevant  \\\n",
       "0     352               Amazon     Neutral   \n",
       "1    8312            Microsoft    Negative   \n",
       "2    4371                CS-GO    Negative   \n",
       "3    4433               Google     Neutral   \n",
       "4    6273                 FIFA    Negative   \n",
       "..    ...                  ...         ...   \n",
       "994  4891  GrandTheftAuto(GTA)  Irrelevant   \n",
       "995  4359                CS-GO  Irrelevant   \n",
       "996  2652          Borderlands    Positive   \n",
       "997  8069            Microsoft    Positive   \n",
       "998  6960      johnson&johnson     Neutral   \n",
       "\n",
       "    I mentioned on Facebook that I was struggling for motivation to go for a run the other day, which has been translated by Tom’s great auntie as ‘Hayley can’t get out of bed’ and told to his grandma, who now thinks I’m a lazy, terrible person 🤣  \n",
       "0    BBC News - Amazon boss Jeff Bezos rejects clai...                                                                                                                                                                                                  \n",
       "1    @Microsoft Why do I pay for WORD when it funct...                                                                                                                                                                                                  \n",
       "2    CSGO matchmaking is so full of closet hacking,...                                                                                                                                                                                                  \n",
       "3    Now the President is slapping Americans in the...                                                                                                                                                                                                  \n",
       "4    Hi @EAHelp I’ve had Madeleine McCann in my cel...                                                                                                                                                                                                  \n",
       "..                                                 ...                                                                                                                                                                                                  \n",
       "994  ⭐️ Toronto is the arts and culture capital of ...                                                                                                                                                                                                  \n",
       "995  tHIS IS ACTUALLY A GOOD MOVE TOT BRING MORE VI...                                                                                                                                                                                                  \n",
       "996  Today sucked so it’s time to drink wine n play...                                                                                                                                                                                                  \n",
       "997  Bought a fraction of Microsoft today. Small wins.                                                                                                                                                                                                  \n",
       "998  Johnson & Johnson to stop selling talc baby po...                                                                                                                                                                                                  \n",
       "\n",
       "[999 rows x 4 columns]"
      ]
     },
     "execution_count": 6,
     "metadata": {},
     "output_type": "execute_result"
    }
   ],
   "source": [
    "df_val = pd.read_csv('/kaggle/input/twitter-entity-sentiment-analysis/twitter_validation.csv')\n",
    "df_val"
   ]
  },
  {
   "cell_type": "code",
   "execution_count": 7,
   "id": "d58bbdc3",
   "metadata": {
    "execution": {
     "iopub.execute_input": "2025-04-22T14:23:29.233938Z",
     "iopub.status.busy": "2025-04-22T14:23:29.233557Z",
     "iopub.status.idle": "2025-04-22T14:23:29.281662Z",
     "shell.execute_reply": "2025-04-22T14:23:29.280199Z"
    },
    "papermill": {
     "duration": 0.05686,
     "end_time": "2025-04-22T14:23:29.283562",
     "exception": false,
     "start_time": "2025-04-22T14:23:29.226702",
     "status": "completed"
    },
    "tags": []
   },
   "outputs": [
    {
     "name": "stdout",
     "output_type": "stream",
     "text": [
      "<class 'pandas.core.frame.DataFrame'>\n",
      "RangeIndex: 74682 entries, 0 to 74681\n",
      "Data columns (total 4 columns):\n",
      " #   Column     Non-Null Count  Dtype \n",
      "---  ------     --------------  ----- \n",
      " 0   tweet_id   74682 non-null  object\n",
      " 1   entity     74682 non-null  object\n",
      " 2   sentiment  74682 non-null  object\n",
      " 3   text       73996 non-null  object\n",
      "dtypes: object(4)\n",
      "memory usage: 2.3+ MB\n"
     ]
    }
   ],
   "source": [
    "df_train.info()"
   ]
  },
  {
   "cell_type": "code",
   "execution_count": 8,
   "id": "c1d57e61",
   "metadata": {
    "execution": {
     "iopub.execute_input": "2025-04-22T14:23:29.296631Z",
     "iopub.status.busy": "2025-04-22T14:23:29.296269Z",
     "iopub.status.idle": "2025-04-22T14:23:29.325095Z",
     "shell.execute_reply": "2025-04-22T14:23:29.324053Z"
    },
    "papermill": {
     "duration": 0.037248,
     "end_time": "2025-04-22T14:23:29.326796",
     "exception": false,
     "start_time": "2025-04-22T14:23:29.289548",
     "status": "completed"
    },
    "tags": []
   },
   "outputs": [
    {
     "data": {
      "text/plain": [
       "tweet_id       0\n",
       "entity         0\n",
       "sentiment      0\n",
       "text         686\n",
       "dtype: int64"
      ]
     },
     "execution_count": 8,
     "metadata": {},
     "output_type": "execute_result"
    }
   ],
   "source": [
    "df_train.isna().sum()"
   ]
  },
  {
   "cell_type": "code",
   "execution_count": 9,
   "id": "41e7323b",
   "metadata": {
    "execution": {
     "iopub.execute_input": "2025-04-22T14:23:29.341031Z",
     "iopub.status.busy": "2025-04-22T14:23:29.340666Z",
     "iopub.status.idle": "2025-04-22T14:23:29.350742Z",
     "shell.execute_reply": "2025-04-22T14:23:29.349654Z"
    },
    "papermill": {
     "duration": 0.019627,
     "end_time": "2025-04-22T14:23:29.352628",
     "exception": false,
     "start_time": "2025-04-22T14:23:29.333001",
     "status": "completed"
    },
    "tags": []
   },
   "outputs": [],
   "source": [
    "current_col = df_val.columns.tolist()\n",
    "\n",
    "df_val.loc[-1] = current_col\n",
    "df_val.index = df_val.index+1\n",
    "df_val = df_val.sort_index()\n",
    "\n",
    "df_val.columns = ['tweet_id','entity','sentiment','text']\n",
    "\n",
    "df_val.reset_index(drop=True,inplace=True)"
   ]
  },
  {
   "cell_type": "code",
   "execution_count": 10,
   "id": "5151d173",
   "metadata": {
    "execution": {
     "iopub.execute_input": "2025-04-22T14:23:29.367312Z",
     "iopub.status.busy": "2025-04-22T14:23:29.366934Z",
     "iopub.status.idle": "2025-04-22T14:23:29.412986Z",
     "shell.execute_reply": "2025-04-22T14:23:29.411946Z"
    },
    "papermill": {
     "duration": 0.054872,
     "end_time": "2025-04-22T14:23:29.414621",
     "exception": false,
     "start_time": "2025-04-22T14:23:29.359749",
     "status": "completed"
    },
    "tags": []
   },
   "outputs": [
    {
     "data": {
      "text/plain": [
       "tweet_id     0\n",
       "entity       0\n",
       "sentiment    0\n",
       "text         0\n",
       "dtype: int64"
      ]
     },
     "execution_count": 10,
     "metadata": {},
     "output_type": "execute_result"
    }
   ],
   "source": [
    "df_train = df_train.dropna(subset=['text'])\n",
    "df_train.isna().sum()"
   ]
  },
  {
   "cell_type": "code",
   "execution_count": 11,
   "id": "3c0d34ff",
   "metadata": {
    "execution": {
     "iopub.execute_input": "2025-04-22T14:23:29.429181Z",
     "iopub.status.busy": "2025-04-22T14:23:29.428814Z",
     "iopub.status.idle": "2025-04-22T14:23:29.441004Z",
     "shell.execute_reply": "2025-04-22T14:23:29.439992Z"
    },
    "papermill": {
     "duration": 0.021815,
     "end_time": "2025-04-22T14:23:29.442762",
     "exception": false,
     "start_time": "2025-04-22T14:23:29.420947",
     "status": "completed"
    },
    "tags": []
   },
   "outputs": [
    {
     "data": {
      "text/html": [
       "<div>\n",
       "<style scoped>\n",
       "    .dataframe tbody tr th:only-of-type {\n",
       "        vertical-align: middle;\n",
       "    }\n",
       "\n",
       "    .dataframe tbody tr th {\n",
       "        vertical-align: top;\n",
       "    }\n",
       "\n",
       "    .dataframe thead th {\n",
       "        text-align: right;\n",
       "    }\n",
       "</style>\n",
       "<table border=\"1\" class=\"dataframe\">\n",
       "  <thead>\n",
       "    <tr style=\"text-align: right;\">\n",
       "      <th></th>\n",
       "      <th>tweet_id</th>\n",
       "      <th>entity</th>\n",
       "      <th>sentiment</th>\n",
       "      <th>text</th>\n",
       "    </tr>\n",
       "  </thead>\n",
       "  <tbody>\n",
       "    <tr>\n",
       "      <th>0</th>\n",
       "      <td>3364</td>\n",
       "      <td>Facebook</td>\n",
       "      <td>Irrelevant</td>\n",
       "      <td>I mentioned on Facebook that I was struggling ...</td>\n",
       "    </tr>\n",
       "    <tr>\n",
       "      <th>1</th>\n",
       "      <td>352</td>\n",
       "      <td>Amazon</td>\n",
       "      <td>Neutral</td>\n",
       "      <td>BBC News - Amazon boss Jeff Bezos rejects clai...</td>\n",
       "    </tr>\n",
       "    <tr>\n",
       "      <th>2</th>\n",
       "      <td>8312</td>\n",
       "      <td>Microsoft</td>\n",
       "      <td>Negative</td>\n",
       "      <td>@Microsoft Why do I pay for WORD when it funct...</td>\n",
       "    </tr>\n",
       "    <tr>\n",
       "      <th>3</th>\n",
       "      <td>4371</td>\n",
       "      <td>CS-GO</td>\n",
       "      <td>Negative</td>\n",
       "      <td>CSGO matchmaking is so full of closet hacking,...</td>\n",
       "    </tr>\n",
       "    <tr>\n",
       "      <th>4</th>\n",
       "      <td>4433</td>\n",
       "      <td>Google</td>\n",
       "      <td>Neutral</td>\n",
       "      <td>Now the President is slapping Americans in the...</td>\n",
       "    </tr>\n",
       "    <tr>\n",
       "      <th>...</th>\n",
       "      <td>...</td>\n",
       "      <td>...</td>\n",
       "      <td>...</td>\n",
       "      <td>...</td>\n",
       "    </tr>\n",
       "    <tr>\n",
       "      <th>995</th>\n",
       "      <td>4891</td>\n",
       "      <td>GrandTheftAuto(GTA)</td>\n",
       "      <td>Irrelevant</td>\n",
       "      <td>⭐️ Toronto is the arts and culture capital of ...</td>\n",
       "    </tr>\n",
       "    <tr>\n",
       "      <th>996</th>\n",
       "      <td>4359</td>\n",
       "      <td>CS-GO</td>\n",
       "      <td>Irrelevant</td>\n",
       "      <td>tHIS IS ACTUALLY A GOOD MOVE TOT BRING MORE VI...</td>\n",
       "    </tr>\n",
       "    <tr>\n",
       "      <th>997</th>\n",
       "      <td>2652</td>\n",
       "      <td>Borderlands</td>\n",
       "      <td>Positive</td>\n",
       "      <td>Today sucked so it’s time to drink wine n play...</td>\n",
       "    </tr>\n",
       "    <tr>\n",
       "      <th>998</th>\n",
       "      <td>8069</td>\n",
       "      <td>Microsoft</td>\n",
       "      <td>Positive</td>\n",
       "      <td>Bought a fraction of Microsoft today. Small wins.</td>\n",
       "    </tr>\n",
       "    <tr>\n",
       "      <th>999</th>\n",
       "      <td>6960</td>\n",
       "      <td>johnson&amp;johnson</td>\n",
       "      <td>Neutral</td>\n",
       "      <td>Johnson &amp; Johnson to stop selling talc baby po...</td>\n",
       "    </tr>\n",
       "  </tbody>\n",
       "</table>\n",
       "<p>1000 rows × 4 columns</p>\n",
       "</div>"
      ],
      "text/plain": [
       "    tweet_id               entity   sentiment  \\\n",
       "0       3364             Facebook  Irrelevant   \n",
       "1        352               Amazon     Neutral   \n",
       "2       8312            Microsoft    Negative   \n",
       "3       4371                CS-GO    Negative   \n",
       "4       4433               Google     Neutral   \n",
       "..       ...                  ...         ...   \n",
       "995     4891  GrandTheftAuto(GTA)  Irrelevant   \n",
       "996     4359                CS-GO  Irrelevant   \n",
       "997     2652          Borderlands    Positive   \n",
       "998     8069            Microsoft    Positive   \n",
       "999     6960      johnson&johnson     Neutral   \n",
       "\n",
       "                                                  text  \n",
       "0    I mentioned on Facebook that I was struggling ...  \n",
       "1    BBC News - Amazon boss Jeff Bezos rejects clai...  \n",
       "2    @Microsoft Why do I pay for WORD when it funct...  \n",
       "3    CSGO matchmaking is so full of closet hacking,...  \n",
       "4    Now the President is slapping Americans in the...  \n",
       "..                                                 ...  \n",
       "995  ⭐️ Toronto is the arts and culture capital of ...  \n",
       "996  tHIS IS ACTUALLY A GOOD MOVE TOT BRING MORE VI...  \n",
       "997  Today sucked so it’s time to drink wine n play...  \n",
       "998  Bought a fraction of Microsoft today. Small wins.  \n",
       "999  Johnson & Johnson to stop selling talc baby po...  \n",
       "\n",
       "[1000 rows x 4 columns]"
      ]
     },
     "execution_count": 11,
     "metadata": {},
     "output_type": "execute_result"
    }
   ],
   "source": [
    "df_val"
   ]
  },
  {
   "cell_type": "markdown",
   "id": "aa780ee8",
   "metadata": {
    "papermill": {
     "duration": 0.005981,
     "end_time": "2025-04-22T14:23:29.454738",
     "exception": false,
     "start_time": "2025-04-22T14:23:29.448757",
     "status": "completed"
    },
    "tags": []
   },
   "source": [
    "# Bag of Words\n",
    "> Applying bag of Word on df_train"
   ]
  },
  {
   "cell_type": "code",
   "execution_count": 12,
   "id": "3eab7952",
   "metadata": {
    "execution": {
     "iopub.execute_input": "2025-04-22T14:23:29.468304Z",
     "iopub.status.busy": "2025-04-22T14:23:29.467911Z",
     "iopub.status.idle": "2025-04-22T14:23:31.208734Z",
     "shell.execute_reply": "2025-04-22T14:23:31.207566Z"
    },
    "papermill": {
     "duration": 1.750071,
     "end_time": "2025-04-22T14:23:31.210842",
     "exception": false,
     "start_time": "2025-04-22T14:23:29.460771",
     "status": "completed"
    },
    "tags": []
   },
   "outputs": [],
   "source": [
    "from sklearn.feature_extraction.text import CountVectorizer"
   ]
  },
  {
   "cell_type": "code",
   "execution_count": 13,
   "id": "d2ccc76b",
   "metadata": {
    "execution": {
     "iopub.execute_input": "2025-04-22T14:23:31.226624Z",
     "iopub.status.busy": "2025-04-22T14:23:31.225147Z",
     "iopub.status.idle": "2025-04-22T14:23:31.231487Z",
     "shell.execute_reply": "2025-04-22T14:23:31.230511Z"
    },
    "papermill": {
     "duration": 0.015545,
     "end_time": "2025-04-22T14:23:31.233007",
     "exception": false,
     "start_time": "2025-04-22T14:23:31.217462",
     "status": "completed"
    },
    "tags": []
   },
   "outputs": [],
   "source": [
    "cv = CountVectorizer()"
   ]
  },
  {
   "cell_type": "code",
   "execution_count": 14,
   "id": "8635e1ca",
   "metadata": {
    "execution": {
     "iopub.execute_input": "2025-04-22T14:23:31.247536Z",
     "iopub.status.busy": "2025-04-22T14:23:31.247178Z",
     "iopub.status.idle": "2025-04-22T14:23:32.528984Z",
     "shell.execute_reply": "2025-04-22T14:23:32.527882Z"
    },
    "papermill": {
     "duration": 1.29149,
     "end_time": "2025-04-22T14:23:32.531064",
     "exception": false,
     "start_time": "2025-04-22T14:23:31.239574",
     "status": "completed"
    },
    "tags": []
   },
   "outputs": [],
   "source": [
    "bow = cv.fit_transform(df_train['text'])"
   ]
  },
  {
   "cell_type": "markdown",
   "id": "aea67022",
   "metadata": {
    "papermill": {
     "duration": 0.006724,
     "end_time": "2025-04-22T14:23:32.544485",
     "exception": false,
     "start_time": "2025-04-22T14:23:32.537761",
     "status": "completed"
    },
    "tags": []
   },
   "source": [
    "* Conveting into vector."
   ]
  },
  {
   "cell_type": "code",
   "execution_count": 15,
   "id": "9a171f21",
   "metadata": {
    "execution": {
     "iopub.execute_input": "2025-04-22T14:23:32.558861Z",
     "iopub.status.busy": "2025-04-22T14:23:32.558546Z",
     "iopub.status.idle": "2025-04-22T14:23:32.565259Z",
     "shell.execute_reply": "2025-04-22T14:23:32.564179Z"
    },
    "papermill": {
     "duration": 0.015949,
     "end_time": "2025-04-22T14:23:32.567049",
     "exception": false,
     "start_time": "2025-04-22T14:23:32.551100",
     "status": "completed"
    },
    "tags": []
   },
   "outputs": [
    {
     "name": "stdout",
     "output_type": "stream",
     "text": [
      "[[0 0 0 ... 0 0 0]]\n",
      "[[0 0 0 ... 0 0 0]]\n"
     ]
    }
   ],
   "source": [
    "print(bow[0].toarray())\n",
    "print(bow[1].toarray())"
   ]
  },
  {
   "cell_type": "markdown",
   "id": "45d3dcd8",
   "metadata": {
    "papermill": {
     "duration": 0.005928,
     "end_time": "2025-04-22T14:23:32.579449",
     "exception": false,
     "start_time": "2025-04-22T14:23:32.573521",
     "status": "completed"
    },
    "tags": []
   },
   "source": [
    "# Ngram\n",
    "\n",
    "* Bi-gram, tri-gram and etc."
   ]
  },
  {
   "cell_type": "code",
   "execution_count": 16,
   "id": "ea1c2237",
   "metadata": {
    "execution": {
     "iopub.execute_input": "2025-04-22T14:23:32.593886Z",
     "iopub.status.busy": "2025-04-22T14:23:32.592686Z",
     "iopub.status.idle": "2025-04-22T14:23:32.598306Z",
     "shell.execute_reply": "2025-04-22T14:23:32.597148Z"
    },
    "papermill": {
     "duration": 0.01483,
     "end_time": "2025-04-22T14:23:32.600286",
     "exception": false,
     "start_time": "2025-04-22T14:23:32.585456",
     "status": "completed"
    },
    "tags": []
   },
   "outputs": [],
   "source": [
    "ncv = CountVectorizer(ngram_range=(5,5))"
   ]
  },
  {
   "cell_type": "code",
   "execution_count": 17,
   "id": "cf3a1d44",
   "metadata": {
    "execution": {
     "iopub.execute_input": "2025-04-22T14:23:32.616611Z",
     "iopub.status.busy": "2025-04-22T14:23:32.615335Z",
     "iopub.status.idle": "2025-04-22T14:23:37.608066Z",
     "shell.execute_reply": "2025-04-22T14:23:37.606977Z"
    },
    "papermill": {
     "duration": 5.003068,
     "end_time": "2025-04-22T14:23:37.610128",
     "exception": false,
     "start_time": "2025-04-22T14:23:32.607060",
     "status": "completed"
    },
    "tags": []
   },
   "outputs": [],
   "source": [
    "bow_ngram = ncv.fit_transform(df_train['text'])"
   ]
  },
  {
   "cell_type": "code",
   "execution_count": 18,
   "id": "92c10280",
   "metadata": {
    "execution": {
     "iopub.execute_input": "2025-04-22T14:23:37.627444Z",
     "iopub.status.busy": "2025-04-22T14:23:37.627103Z",
     "iopub.status.idle": "2025-04-22T14:23:37.632990Z",
     "shell.execute_reply": "2025-04-22T14:23:37.631785Z"
    },
    "papermill": {
     "duration": 0.016392,
     "end_time": "2025-04-22T14:23:37.634454",
     "exception": false,
     "start_time": "2025-04-22T14:23:37.618062",
     "status": "completed"
    },
    "tags": []
   },
   "outputs": [
    {
     "name": "stdout",
     "output_type": "stream",
     "text": [
      "709897\n"
     ]
    }
   ],
   "source": [
    "print(len(ncv.vocabulary_))"
   ]
  },
  {
   "cell_type": "markdown",
   "id": "2ef558fd",
   "metadata": {
    "papermill": {
     "duration": 0.005927,
     "end_time": "2025-04-22T14:23:37.646688",
     "exception": false,
     "start_time": "2025-04-22T14:23:37.640761",
     "status": "completed"
    },
    "tags": []
   },
   "source": [
    "# TF-IDF"
   ]
  },
  {
   "cell_type": "code",
   "execution_count": 19,
   "id": "81ce41d9",
   "metadata": {
    "execution": {
     "iopub.execute_input": "2025-04-22T14:23:37.660293Z",
     "iopub.status.busy": "2025-04-22T14:23:37.659888Z",
     "iopub.status.idle": "2025-04-22T14:23:37.664914Z",
     "shell.execute_reply": "2025-04-22T14:23:37.663970Z"
    },
    "papermill": {
     "duration": 0.01388,
     "end_time": "2025-04-22T14:23:37.666611",
     "exception": false,
     "start_time": "2025-04-22T14:23:37.652731",
     "status": "completed"
    },
    "tags": []
   },
   "outputs": [],
   "source": [
    "from sklearn.feature_extraction.text import TfidfVectorizer"
   ]
  },
  {
   "cell_type": "code",
   "execution_count": 20,
   "id": "8d68b2af",
   "metadata": {
    "execution": {
     "iopub.execute_input": "2025-04-22T14:23:37.680834Z",
     "iopub.status.busy": "2025-04-22T14:23:37.680017Z",
     "iopub.status.idle": "2025-04-22T14:23:47.020311Z",
     "shell.execute_reply": "2025-04-22T14:23:47.019004Z"
    },
    "papermill": {
     "duration": 9.349105,
     "end_time": "2025-04-22T14:23:47.021933",
     "exception": false,
     "start_time": "2025-04-22T14:23:37.672828",
     "status": "completed"
    },
    "tags": []
   },
   "outputs": [
    {
     "data": {
      "text/plain": [
       "array([[0., 0., 0., ..., 0., 0., 0.],\n",
       "       [0., 0., 0., ..., 0., 0., 0.],\n",
       "       [0., 0., 0., ..., 0., 0., 0.],\n",
       "       ...,\n",
       "       [0., 0., 0., ..., 0., 0., 0.],\n",
       "       [0., 0., 0., ..., 0., 0., 0.],\n",
       "       [0., 0., 0., ..., 0., 0., 0.]])"
      ]
     },
     "execution_count": 20,
     "metadata": {},
     "output_type": "execute_result"
    }
   ],
   "source": [
    "tfidf = TfidfVectorizer()\n",
    "tfidf.fit_transform(df_train['text']).toarray()"
   ]
  },
  {
   "cell_type": "code",
   "execution_count": 21,
   "id": "08bee0c4",
   "metadata": {
    "execution": {
     "iopub.execute_input": "2025-04-22T14:23:47.037634Z",
     "iopub.status.busy": "2025-04-22T14:23:47.036138Z",
     "iopub.status.idle": "2025-04-22T14:23:47.088447Z",
     "shell.execute_reply": "2025-04-22T14:23:47.087087Z"
    },
    "papermill": {
     "duration": 0.06144,
     "end_time": "2025-04-22T14:23:47.090030",
     "exception": false,
     "start_time": "2025-04-22T14:23:47.028590",
     "status": "completed"
    },
    "tags": []
   },
   "outputs": [
    {
     "name": "stdout",
     "output_type": "stream",
     "text": [
      "[ 7.41598929  6.94392167 10.26586968 ... 11.11316754 11.11316754\n",
      " 11.11316754]\n",
      "['00' '000' '00011' ... 'การออกอากาศของฉ' 'นจาก' 'ℐℓ٥']\n"
     ]
    }
   ],
   "source": [
    "print(tfidf.idf_)\n",
    "print(tfidf.get_feature_names_out())"
   ]
  },
  {
   "cell_type": "code",
   "execution_count": 22,
   "id": "b2bb0468",
   "metadata": {
    "execution": {
     "iopub.execute_input": "2025-04-22T14:23:47.104530Z",
     "iopub.status.busy": "2025-04-22T14:23:47.104077Z",
     "iopub.status.idle": "2025-04-22T14:23:47.149267Z",
     "shell.execute_reply": "2025-04-22T14:23:47.148171Z"
    },
    "papermill": {
     "duration": 0.054493,
     "end_time": "2025-04-22T14:23:47.151111",
     "exception": false,
     "start_time": "2025-04-22T14:23:47.096618",
     "status": "completed"
    },
    "tags": []
   },
   "outputs": [
    {
     "data": {
      "text/plain": [
       "array(['00', '000', '00011', ..., 'การออกอากาศของฉ', 'นจาก', 'ℐℓ٥'],\n",
       "      dtype=object)"
      ]
     },
     "execution_count": 22,
     "metadata": {},
     "output_type": "execute_result"
    }
   ],
   "source": [
    "tfidf.get_feature_names_out()"
   ]
  },
  {
   "cell_type": "code",
   "execution_count": null,
   "id": "d4bb4ef4",
   "metadata": {
    "papermill": {
     "duration": 0.006378,
     "end_time": "2025-04-22T14:23:47.164000",
     "exception": false,
     "start_time": "2025-04-22T14:23:47.157622",
     "status": "completed"
    },
    "tags": []
   },
   "outputs": [],
   "source": []
  },
  {
   "cell_type": "code",
   "execution_count": null,
   "id": "faffc5a4",
   "metadata": {
    "papermill": {
     "duration": 0.006252,
     "end_time": "2025-04-22T14:23:47.176645",
     "exception": false,
     "start_time": "2025-04-22T14:23:47.170393",
     "status": "completed"
    },
    "tags": []
   },
   "outputs": [],
   "source": []
  }
 ],
 "metadata": {
  "kaggle": {
   "accelerator": "none",
   "dataSources": [
    {
     "datasetId": 1520310,
     "sourceId": 2510329,
     "sourceType": "datasetVersion"
    }
   ],
   "dockerImageVersionId": 31012,
   "isGpuEnabled": false,
   "isInternetEnabled": true,
   "language": "python",
   "sourceType": "notebook"
  },
  "kernelspec": {
   "display_name": "Python 3",
   "language": "python",
   "name": "python3"
  },
  "language_info": {
   "codemirror_mode": {
    "name": "ipython",
    "version": 3
   },
   "file_extension": ".py",
   "mimetype": "text/x-python",
   "name": "python",
   "nbconvert_exporter": "python",
   "pygments_lexer": "ipython3",
   "version": "3.11.11"
  },
  "papermill": {
   "default_parameters": {},
   "duration": 27.386213,
   "end_time": "2025-04-22T14:23:48.609419",
   "environment_variables": {},
   "exception": null,
   "input_path": "__notebook__.ipynb",
   "output_path": "__notebook__.ipynb",
   "parameters": {},
   "start_time": "2025-04-22T14:23:21.223206",
   "version": "2.6.0"
  }
 },
 "nbformat": 4,
 "nbformat_minor": 5
}
