{
  "nbformat": 4,
  "nbformat_minor": 0,
  "metadata": {
    "colab": {
      "provenance": [],
      "mount_file_id": "1KFwx89thFtuzf_JOi8VFGLyUFKaam5_J",
      "authorship_tag": "ABX9TyNdkv9fRLlF/DrAEvH0IjmJ",
      "include_colab_link": true
    },
    "kernelspec": {
      "name": "python3",
      "display_name": "Python 3"
    },
    "language_info": {
      "name": "python"
    }
  },
  "cells": [
    {
      "cell_type": "markdown",
      "metadata": {
        "id": "view-in-github",
        "colab_type": "text"
      },
      "source": [
        "<a href=\"https://colab.research.google.com/github/blackwithwhitegreen/About-LLM/blob/main/task2.ipynb\" target=\"_parent\"><img src=\"https://colab.research.google.com/assets/colab-badge.svg\" alt=\"Open In Colab\"/></a>"
      ]
    },
    {
      "cell_type": "code",
      "source": [
        "import warnings\n",
        "warnings.filterwarnings('ignore')\n",
        "import random\n",
        "from datetime import datetime"
      ],
      "metadata": {
        "id": "kHEgsqgR9GDO"
      },
      "execution_count": null,
      "outputs": []
    },
    {
      "cell_type": "code",
      "source": [
        "# Step 1: Simulated Product Scraping\n",
        "def get_mock_products():\n",
        "    return [\n",
        "        {\n",
        "            \"title\": \"iQOO Z9s 5G (Onyx Green, 8GB RAM, 128GB Storage)\",\n",
        "            \"price\": \"₹18,999\",\n",
        "            \"link\": \"https://www.amazon.in/iQOO-Storage-Ultra-Thin-Dimesity-Processor/dp/B07WFPL9PB?ref_=Oct_d_obs_d_1805560031_0&pd_rd_w=Z5RBv&content-id=amzn1.sym.a0183515-a55a-48ac-a863-406c0a598721&pf_rd_p=a0183515-a55a-48ac-a863-406c0a598721&pf_rd_r=8T4PC9E225N9HY1QWK9S&pd_rd_wg=fKvGY&pd_rd_r=090df9f8-29d5-4143-bbdf-38a0b0da8303&pd_rd_i=B07WFPL9PB\",\n",
        "            \"thumbnail\": \"https://www.amazon.in/iQOO-Storage-Ultra-Thin-Dimesity-Processor/dp/B07WFPL9PB?ref_=Oct_d_obs_d_1805560031_0&pd_rd_w=Z5RBv&content-id=amzn1.sym.a0183515-a55a-48ac-a863-406c0a598721&pf_rd_p=a0183515-a55a-48ac-a863-406c0a598721&pf_rd_r=8T4PC9E225N9HY1QWK9S&pd_rd_wg=fKvGY&pd_rd_r=090df9f8-29d5-4143-bbdf-38a0b0da8303&pd_rd_i=B07WFPL9PB&th=1\"\n",
        "        },\n",
        "        {\n",
        "            \"title\": \"iPhone 16 128 GB:\",\n",
        "            \"price\": \" ₹72,900\",\n",
        "            \"link\": \"https://www.amazon.in/iPhone-16-128-GB-Ultramarine/dp/B0DGJ7TGDR/ref=zg_mg_g_1805560031_d_sccl_7/262-1623401-7219241?th=1\",\n",
        "            \"thumbnail\": \"https://www.amazon.in/iPhone-16-128-GB-Ultramarine/dp/B0DGJ7TGDR/ref=zg_mg_g_1805560031_d_sccl_7/262-1623401-7219241?th=1\"\n",
        "        }\n",
        "    ]\n",
        "\n"
      ],
      "metadata": {
        "id": "-GLdfaOh9U-S"
      },
      "execution_count": null,
      "outputs": []
    },
    {
      "cell_type": "code",
      "source": [
        "# Step 2: Simulated SEO Keyword Research\n",
        "def get_mock_keywords(product_title):\n",
        "    keyword_bank = [\n",
        "        \"best smartphone\", \"affordable iphone\",\n",
        "        \"top iphone\", \"latest Amazon deals\",\n",
        "        \"High quality camera\", \"budget-friendly\"\n",
        "    ]\n",
        "    return random.sample(keyword_bank, 3)\n",
        "\n"
      ],
      "metadata": {
        "id": "mHtS_3Tr9j9v"
      },
      "execution_count": null,
      "outputs": []
    },
    {
      "cell_type": "code",
      "source": [
        "# Step 3: Blog Post Generation\n",
        "def generate_blog_post(product, keywords):\n",
        "    return f\"\"\"# {product['title']}\n",
        "\n",
        "Looking for {keywords[0]}? The **{product['title']}** is currently trending and available on [Amazon]({product['link']}) for just {product['price']}.\n",
        "\n",
        "This product is perfect for those who want {keywords[1]} without compromising quality. Among the {keywords[2]}, it stands out for its performance, affordability, and user reviews.\n",
        "\n",
        "Don’t miss out on this deal — it’s one of the top-rated choices in the market right now!\n",
        "\"\"\"\n",
        "\n",
        "\n"
      ],
      "metadata": {
        "id": "corORwJDJ76E"
      },
      "execution_count": null,
      "outputs": []
    },
    {
      "cell_type": "code",
      "source": [
        "# Step 4: Save as Markdown File\n",
        "def save_blog(content, product_title):\n",
        "    filename = product_title.replace(\" \", \"_\").lower() + \".md\"\n",
        "    with open(filename, 'w', encoding='utf-8') as f:\n",
        "        f.write(content)\n",
        "    print(f\" Blog saved as: {filename}\")"
      ],
      "metadata": {
        "id": "f8-cQqbrKGLs"
      },
      "execution_count": null,
      "outputs": []
    },
    {
      "cell_type": "code",
      "source": [
        "# Run the full pipeline\n",
        "def run_blog_generator():\n",
        "    products = get_mock_products()\n",
        "    for product in products:\n",
        "        keywords = get_mock_keywords(product['title'])\n",
        "        blog_post = generate_blog_post(product, keywords)\n",
        "        save_blog(blog_post, product['title'])\n",
        "\n",
        "# Execute\n",
        "run_blog_generator()"
      ],
      "metadata": {
        "id": "TFgvdYrZKLGM"
      },
      "execution_count": null,
      "outputs": []
    }
  ]
}